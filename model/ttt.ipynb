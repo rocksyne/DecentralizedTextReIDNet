{
 "cells": [
  {
   "cell_type": "code",
   "execution_count": 1,
   "metadata": {},
   "outputs": [],
   "source": [
    "import torch\n",
    "from efficientnet_backbone import EfficientNetBackbone"
   ]
  },
  {
   "cell_type": "code",
   "execution_count": 2,
   "metadata": {},
   "outputs": [
    {
     "name": "stdout",
     "output_type": "stream",
     "text": [
      "[INFO] Total params: 5.288548 M\n"
     ]
    }
   ],
   "source": [
    "efNet = EfficientNetBackbone()\n",
    "input_image = torch.randn(1, 3, 512, 512)\n",
    "print('[INFO] Total params: {} M'.format(sum(p.numel() for p in efNet.parameters()) / 1000000.0))"
   ]
  },
  {
   "cell_type": "code",
   "execution_count": 3,
   "metadata": {},
   "outputs": [],
   "source": [
    "features = efNet(input_image)"
   ]
  },
  {
   "cell_type": "code",
   "execution_count": 4,
   "metadata": {},
   "outputs": [
    {
     "name": "stdout",
     "output_type": "stream",
     "text": [
      "torch.Size([1, 24, 128, 128])\n",
      "torch.Size([1, 80, 32, 32])\n",
      "torch.Size([1, 192, 16, 16])\n",
      "torch.Size([1, 1280, 16, 16])\n"
     ]
    }
   ],
   "source": [
    "for ii in features:\n",
    "    print(ii.shape)"
   ]
  },
  {
   "cell_type": "code",
   "execution_count": 5,
   "metadata": {},
   "outputs": [
    {
     "ename": "SyntaxError",
     "evalue": "invalid syntax (4286996969.py, line 1)",
     "output_type": "error",
     "traceback": [
      "\u001b[0;36m  Cell \u001b[0;32mIn[5], line 1\u001b[0;36m\u001b[0m\n\u001b[0;31m    c2:torch.Size([8, 64, 128, 128]) c3:torch.Size([8, 128, 64, 64]) c4:torch.Size([8, 256, 32, 32]) c5:torch.Size([8, 512, 16, 16])\u001b[0m\n\u001b[0m                                     ^\u001b[0m\n\u001b[0;31mSyntaxError\u001b[0m\u001b[0;31m:\u001b[0m invalid syntax\n"
     ]
    }
   ],
   "source": [
    "c2:torch.Size([8, 64, 128, 128]) c3:torch.Size([8, 128, 64, 64]) c4:torch.Size([8, 256, 32, 32]) c5:torch.Size([8, 512, 16, 16])"
   ]
  },
  {
   "cell_type": "code",
   "execution_count": null,
   "metadata": {},
   "outputs": [],
   "source": []
  }
 ],
 "metadata": {
  "kernelspec": {
   "display_name": "TBPReID",
   "language": "python",
   "name": "python3"
  },
  "language_info": {
   "codemirror_mode": {
    "name": "ipython",
    "version": 3
   },
   "file_extension": ".py",
   "mimetype": "text/x-python",
   "name": "python",
   "nbconvert_exporter": "python",
   "pygments_lexer": "ipython3",
   "version": "3.10.11"
  },
  "orig_nbformat": 4
 },
 "nbformat": 4,
 "nbformat_minor": 2
}
