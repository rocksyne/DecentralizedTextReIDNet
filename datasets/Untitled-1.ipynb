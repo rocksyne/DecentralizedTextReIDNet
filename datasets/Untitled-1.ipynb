{
 "cells": [
  {
   "cell_type": "code",
   "execution_count": 1,
   "metadata": {},
   "outputs": [],
   "source": [
    "import os, sys\n",
    "from tqdm import tqdm as tqdm\n",
    "sys.path.insert(0, os.path.abspath('../'))\n",
    "from config import sys_configuration\n",
    "from mhpv2_dataloader import build_mhpv2_dataloader\n",
    "config = sys_configuration()\n",
    "train_set_loader, val_set_loader = build_mhpv2_dataloader(config)\n",
    "for train_data in tqdm(train_set_loader):\n",
    "    #print(\"{} {} {}\".format(train_data['images'].shape, train_data['human_instance_masks'].shape, train_data['human_instance_bbs_n_classes'].shape))\n",
    "    ..."
   ]
  },
  {
   "cell_type": "code",
   "execution_count": 2,
   "metadata": {},
   "outputs": [
    {
     "name": "stdout",
     "output_type": "stream",
     "text": [
      "\n",
      "[INFO] Dataset name: Multi-human Parsing (MHP) V2\n",
      "[INFO] Dataset split:  train\n",
      "[INFO] Number of classes: 58. (*please note that this does not include the background class)\n",
      "[INFO] Total valid data samples: 15,398\n",
      "[INFO] Some image data may have been corrupted during extracting, so remove them if you can\n",
      "\n",
      "\n",
      "[INFO] Dataset name: Multi-human Parsing (MHP) V2\n",
      "[INFO] Dataset split:  val\n",
      "[INFO] Number of classes: 58. (*please note that this does not include the background class)\n",
      "[INFO] Total valid data samples: 4,998\n",
      "[INFO] Some image data may have been corrupted during extracting, so remove them if you can\n",
      "\n"
     ]
    }
   ],
   "source": []
  },
  {
   "cell_type": "code",
   "execution_count": 3,
   "metadata": {},
   "outputs": [
    {
     "name": "stderr",
     "output_type": "stream",
     "text": [
      " 73%|███████▎  | 1125/1540 [04:06<01:33,  4.46it/s]"
     ]
    }
   ],
   "source": []
  },
  {
   "cell_type": "code",
   "execution_count": null,
   "metadata": {},
   "outputs": [],
   "source": []
  }
 ],
 "metadata": {
  "kernelspec": {
   "display_name": "TBPReID",
   "language": "python",
   "name": "python3"
  },
  "language_info": {
   "codemirror_mode": {
    "name": "ipython",
    "version": 3
   },
   "file_extension": ".py",
   "mimetype": "text/x-python",
   "name": "python",
   "nbconvert_exporter": "python",
   "pygments_lexer": "ipython3",
   "version": "3.10.11"
  },
  "orig_nbformat": 4
 },
 "nbformat": 4,
 "nbformat_minor": 2
}
